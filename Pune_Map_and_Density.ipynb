{
 "cells": [
  {
   "cell_type": "code",
   "execution_count": null,
   "metadata": {},
   "outputs": [],
   "source": [
    "import geopandas as gpd\n",
    "import numpy as np\n",
    "import pandas as pd\n",
    "import matplotlib.pyplot as plt\n",
    "import osmnx as ox"
   ]
  },
  {
   "cell_type": "code",
   "execution_count": null,
   "metadata": {},
   "outputs": [],
   "source": [
    "from descartes import PolygonPatch\n",
    "from shapely.geometry import Point, LineString, Polygon, MultiPolygon"
   ]
  },
  {
   "cell_type": "code",
   "execution_count": null,
   "metadata": {},
   "outputs": [],
   "source": [
    "city = ox.geocode_to_gdf(\"Pune City,Pune District,Maharashtra,India\")\n",
    "print(city.crs)\n",
    "city = ox.project_gdf(city)\n",
    "fig, ax = ox.plot.plot_footprints(city)\n",
    "print(city.crs)"
   ]
  },
  {
   "cell_type": "code",
   "execution_count": null,
   "metadata": {},
   "outputs": [],
   "source": [
    "city.to_file('PuneFiles/Pune_city.shp')"
   ]
  },
  {
   "cell_type": "code",
   "execution_count": null,
   "metadata": {},
   "outputs": [],
   "source": [
    "geometry = city['geometry'].iloc[0]\n",
    "print(type(geometry))"
   ]
  },
  {
   "cell_type": "code",
   "execution_count": null,
   "metadata": {},
   "outputs": [],
   "source": [
    "geometry_cut = ox.utils_geo._quadrat_cut_geometry(geometry,840)\n",
    "# geometry_cut = ox.quadrat_cut_geometry(geometry, 840)  # Syntax for new version\n",
    "print(type(geometry_cut))"
   ]
  },
  {
   "cell_type": "code",
   "execution_count": null,
   "metadata": {},
   "outputs": [],
   "source": [
    "polylist = [p for p in geometry_cut] \n",
    "polylist[5]"
   ]
  },
  {
   "cell_type": "code",
   "execution_count": null,
   "metadata": {},
   "outputs": [],
   "source": [
    "polylist = [p for p in geometry_cut]\n",
    "\n",
    "# plot city\n",
    "west, south, east, north = city.unary_union.bounds\n",
    "\n",
    "fig, ax = plt.subplots(figsize=(40,40))\n",
    "for polygon, n in zip(geometry_cut, np.arange(len(polylist))):\n",
    "    p = polygon.representative_point().coords[:][0]   #list/tuple of centre coordinates of each block \n",
    "    patch = PolygonPatch(polygon, fc='#ffffff', ec='#000000', alpha=0.5, zorder=2)\n",
    "    ax.add_patch(patch)\n",
    "    plt.annotate(text=n, xy=p, horizontalalignment='left', size=15, va='bottom')\n",
    "    \n",
    "ax.set_xlim(west, east)\n",
    "ax.set_ylim(south, north)\n",
    "ax.axis('off')\n",
    "plt.show()"
   ]
  },
  {
   "cell_type": "code",
   "execution_count": null,
   "metadata": {},
   "outputs": [],
   "source": [
    "polyframe = gpd.GeoDataFrame(geometry=polylist)\n",
    "polyframe.crs = city.crs\n",
    "print(polyframe.crs)\n",
    "polyframe.head()"
   ]
  },
  {
   "cell_type": "code",
   "execution_count": null,
   "metadata": {},
   "outputs": [],
   "source": [
    "len(polyframe)"
   ]
  },
  {
   "cell_type": "code",
   "execution_count": null,
   "metadata": {
    "scrolled": true
   },
   "outputs": [],
   "source": [
    "import contextily as ctx\n",
    "# ctx uses epsg:3857\n",
    "polyframe_3857 = polyframe.to_crs(epsg=3857)\n",
    "west, south, east, north = polyframe_3857.unary_union.bounds\n",
    "\n",
    "ax = polyframe_3857.plot(figsize=(40,40), alpha=0.5, edgecolor='k')\n",
    "ctx.add_basemap(ax, zoom=13)\n",
    "ax.set_xlim(west, east)\n",
    "ax.set_ylim(south, north)"
   ]
  },
  {
   "cell_type": "code",
   "execution_count": null,
   "metadata": {},
   "outputs": [],
   "source": [
    "l = len(polylist)\n",
    "OD_matrix = np.zeros(shape=(l,l))\n",
    "print(OD_matrix)\n",
    "print(l)"
   ]
  },
  {
   "cell_type": "code",
   "execution_count": null,
   "metadata": {
    "scrolled": true
   },
   "outputs": [],
   "source": [
    "# Population Data\n",
    "from random import randint\n",
    "row=randint(2,80)\n",
    "opd=pd.read_csv(\"PunePop.csv\")\n",
    "pune_pop1=opd.iloc[row]\n",
    "print(pune_pop1)"
   ]
  },
  {
   "cell_type": "code",
   "execution_count": null,
   "metadata": {},
   "outputs": [],
   "source": [
    "pune_pop1=pune_pop1.to_numpy()\n",
    "type(pune_pop1)"
   ]
  },
  {
   "cell_type": "code",
   "execution_count": null,
   "metadata": {},
   "outputs": [],
   "source": [
    "pune_pop1=np.append(pune_pop1,[1500,1500])"
   ]
  },
  {
   "cell_type": "code",
   "execution_count": null,
   "metadata": {},
   "outputs": [],
   "source": [
    "plt.hist(pune_pop1, bins=50)\n",
    "plt.show()"
   ]
  },
  {
   "cell_type": "code",
   "execution_count": null,
   "metadata": {},
   "outputs": [],
   "source": [
    "polyframe.head()"
   ]
  },
  {
   "cell_type": "code",
   "execution_count": null,
   "metadata": {
    "scrolled": true
   },
   "outputs": [],
   "source": [
    "print('Pune Geodataframe Length: ', len(polyframe))\n",
    "print('Pune Population Array Length: ', len(pune_pop1))"
   ]
  },
  {
   "cell_type": "code",
   "execution_count": null,
   "metadata": {},
   "outputs": [],
   "source": [
    "type(pune_pop1)"
   ]
  },
  {
   "cell_type": "code",
   "execution_count": null,
   "metadata": {},
   "outputs": [],
   "source": [
    "polyframe['population'] = pune_pop1\n",
    "polyframe.head()"
   ]
  },
  {
   "cell_type": "code",
   "execution_count": null,
   "metadata": {},
   "outputs": [],
   "source": [
    "polylist = [p for p in polyframe_3857.geometry]\n",
    "# 3720\n",
    "# plot city\n",
    "west, south, east, north = polyframe_3857.unary_union.bounds\n",
    "\n",
    "ax = polyframe_3857.plot(figsize=(40,40), alpha=0.5, edgecolor='k', zorder=5)\n",
    "for polygon, n in zip(polylist, np.arange(len(polylist))):\n",
    "    p = polygon.representative_point().coords[:][0]\n",
    "    patch = PolygonPatch(polygon, fc='#ffffff', ec='#000000', alpha=0.5, zorder=2)\n",
    "    ax.add_patch(patch)\n",
    "    plt.annotate(s=n, xy=p, horizontalalignment='center', size=15)\n",
    "ctx.add_basemap(ax, zoom=13)\n",
    "    \n",
    "ax.set_xlim(west, east)\n",
    "ax.set_ylim(south, north)\n",
    "ax.axis('off')\n",
    "plt.show()"
   ]
  },
  {
   "cell_type": "code",
   "execution_count": null,
   "metadata": {},
   "outputs": [],
   "source": [
    "plt.rcParams.update({'font.size':32})\n",
    "polyframe_3857 = polyframe.to_crs(epsg=3857)\n",
    "west, south, east, north = polyframe_3857.unary_union.bounds\n",
    "\n",
    "fig, ax = plt.subplots(figsize=(40,40))\n",
    "polyframe_3857.plot(ax=ax, column = 'population', legend=False, cmap='rainbow')\n",
    "\n",
    "cbax = fig.add_axes([0.915, 0.175, 0.02, 0.7])\n",
    "\n",
    "sm = plt.cm.ScalarMappable(cmap='rainbow', \\\n",
    "                          norm = plt.Normalize(vmin=min(polyframe_3857.population), vmax=max(polyframe_3857.population)))\n",
    "\n",
    "sm._A = []\n",
    "\n",
    "# draw colormap into cbax\n",
    "\n",
    "fig.colorbar(sm, cax=cbax, format=\"%d\")\n",
    "\n",
    "ax.set_xlim(west, east)\n",
    "ax.set_ylim(south, north)\n",
    "ax.axis('off')\n",
    "plt.show()"
   ]
  }
 ],
 "metadata": {
  "kernelspec": {
   "display_name": "Python 3",
   "language": "python",
   "name": "python3"
  },
  "language_info": {
   "codemirror_mode": {
    "name": "ipython",
    "version": 3
   },
   "file_extension": ".py",
   "mimetype": "text/x-python",
   "name": "python",
   "nbconvert_exporter": "python",
   "pygments_lexer": "ipython3",
   "version": "3.9.1"
  }
 },
 "nbformat": 4,
 "nbformat_minor": 4
}
