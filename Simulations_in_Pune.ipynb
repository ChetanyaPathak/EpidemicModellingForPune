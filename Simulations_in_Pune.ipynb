{
 "cells": [
  {
   "cell_type": "markdown",
   "metadata": {},
   "source": [
    "# Simulating the Covid-19 Epidemic in Pune"
   ]
  },
  {
   "cell_type": "code",
   "execution_count": null,
   "metadata": {},
   "outputs": [],
   "source": [
    "import numpy as np\n",
    "import pickle\n",
    "import matplotlib.pyplot as plt\n",
    "import pandas as pd"
   ]
  },
  {
   "cell_type": "code",
   "execution_count": null,
   "metadata": {},
   "outputs": [],
   "source": [
    "def seir_plot(res):\n",
    "    plt.plot(res[::12, 0], color='r', label='S')\n",
    "    plt.plot(res[::12, 1], color='g', label='E')\n",
    "    plt.plot(res[::12, 2], color='b', label='I')\n",
    "    plt.plot(res[::12, 3], color='y', label='R')\n",
    "    plt.plot(res[::12, 4], color='c', label='H')\n",
    "    plt.legend()"
   ]
  },
  {
   "cell_type": "code",
   "execution_count": null,
   "metadata": {
    "scrolled": true
   },
   "outputs": [],
   "source": [
    "pkl_file = open('OD_matrices.pkl', 'rb')\n",
    "OD_matrices = pickle.load(pkl_file)\n",
    "pkl_file.close()\n",
    "print(OD_matrices)"
   ]
  },
  {
   "cell_type": "code",
   "execution_count": null,
   "metadata": {},
   "outputs": [],
   "source": [
    "OD_matrices.shape"
   ]
  },
  {
   "cell_type": "code",
   "execution_count": null,
   "metadata": {},
   "outputs": [],
   "source": [
    "# set up model\n",
    "%run virus-sim.py\n",
    "pop=pd.read_csv(\"PopPune.csv\").to_numpy()\n",
    "r = OD_matrices.shape[0]\n",
    "n = pop.shape[1]\n",
    "N = 3100000 # Pune Population\n",
    "\n",
    "initialInd = [334, 353, 196, 445, 162, 297, 207, 208, 209] \n",
    "initial = np.zeros(n)\n",
    "initial[initialInd] = 100 # 50\n",
    "\n",
    "\"\"\"\n",
    "R0 = Reproducibility\n",
    "DE = Incubation period\n",
    "DI = Infection period\n",
    "I0 = First infection\n",
    "\"\"\"\n",
    "\n",
    "model = Param(R0=2.6, DE= 5.2 * 12, DI= 6.2 * 12, I0=initial, HospitalisationRate=0.1, HospitalIters=15*12)"
   ]
  },
  {
   "cell_type": "code",
   "execution_count": null,
   "metadata": {},
   "outputs": [],
   "source": [
    "# run simulation\n",
    "%run virus-sim.py\n",
    "\n",
    "alpha = np.ones(OD_matrices.shape)\n",
    "iterations = 2500\n",
    "res = {}\n",
    "inf = 50\n",
    "res['baseline'] = seir(model, pop, OD_matrices, alpha, iterations, inf)"
   ]
  },
  {
   "cell_type": "code",
   "execution_count": null,
   "metadata": {},
   "outputs": [],
   "source": [
    "print(\n",
    "\"Max number of hospitalised people: \", int(res[\"baseline\"][0][:,4].max()),\n",
    "\"\\n\",\n",
    "\"Day with max hospitalised people: \", int(res[\"baseline\"][0][:,4].argmax()/12)\n",
    ")\n",
    "# plot result\n",
    "seir_plot(res[\"baseline\"][0])"
   ]
  },
  {
   "cell_type": "markdown",
   "metadata": {},
   "source": [
    "## Spatial Visualisation"
   ]
  },
  {
   "cell_type": "code",
   "execution_count": null,
   "metadata": {},
   "outputs": [],
   "source": [
    "import geopandas as gpd, pandas as pd\n",
    "import contextily as ctx"
   ]
  },
  {
   "cell_type": "code",
   "execution_count": null,
   "metadata": {},
   "outputs": [],
   "source": [
    "import osmnx as ox\n",
    "from shapely.geometry import Point, LineString, Polygon, MultiPolygon\n",
    "city = ox.geocode_to_gdf(\"Pune City,Pune District,Maharashtra,India\") \n",
    "print(city.crs)\n",
    "city = ox.project_gdf(city)\n",
    "fig, ax = ox.plot.plot_footprints(city)\n",
    "print(city.crs)\n",
    "geometry = city['geometry'].iloc[0]\n",
    "geometry_cut = ox.utils_geo._quadrat_cut_geometry(geometry,840)\n",
    "polylist = [p for p in geometry_cut]\n",
    "polyframe = gpd.GeoDataFrame(geometry=polylist)\n",
    "polyframe.crs = city.crs\n",
    "print(polyframe.crs)\n",
    "pune_gdf=polyframe\n",
    "polyframe.head()"
   ]
  },
  {
   "cell_type": "code",
   "execution_count": null,
   "metadata": {},
   "outputs": [],
   "source": [
    "pune_gdf_3857 = pune_gdf.to_crs(epsg=3857)\n",
    "west, south, east, north = pune_gdf_3857.unary_union.bounds"
   ]
  },
  {
   "cell_type": "code",
   "execution_count": null,
   "metadata": {
    "scrolled": true
   },
   "outputs": [],
   "source": [
    "# declaring baseline array storing the dynamics of the compartments \n",
    "baseline = res['baseline'][1][::12, :, :]\n",
    "print(baseline.shape)\n",
    "print(baseline)"
   ]
  },
  {
   "cell_type": "code",
   "execution_count": null,
   "metadata": {
    "scrolled": true
   },
   "outputs": [],
   "source": [
    "# declaring hopsitalisation array storing the dynamics of the hospitalised \n",
    "hosp = res['baseline'][0][::12, 4]\n",
    "print(hosp.shape)\n",
    "print(hosp)"
   ]
  },
  {
   "cell_type": "code",
   "execution_count": null,
   "metadata": {},
   "outputs": [],
   "source": [
    "# Find maximum hospitalisation value to make sure the color intensities in the animation are anchored against it\n",
    "max_exp_ind = np.where(baseline[:, 1, :] == baseline[:, 1, :].max())[0].item()\n",
    "max_exp_val = baseline[:, 1, :].max()\n",
    "print(max_exp_ind, max_exp_val)"
   ]
  },
  {
   "cell_type": "code",
   "execution_count": null,
   "metadata": {},
   "outputs": [],
   "source": [
    "ncolors = 256\n",
    "\n",
    "color_array = plt.get_cmap('Reds')(range(ncolors))\n",
    "print(color_array.shape)\n",
    "print(color_array)\n",
    "\n",
    "# changing alpha values\n",
    "color_array[:, -1] = np.linspace(0.3, 1, ncolors)\n",
    "\n",
    "import matplotlib.colors as colors\n",
    "from matplotlib.colors import LinearSegmentedColormap\n",
    "\n",
    "map_object = LinearSegmentedColormap.from_list(name=\"Reds_transp\", colors=color_array)\n",
    "\n",
    "plt.register_cmap(cmap=map_object)\n",
    "\n",
    "# plotting some example data\n",
    "fig, ax = plt.subplots()\n",
    "h = ax.imshow(np.random.rand(100,100), cmap='Reds_transp')\n",
    "plt.colorbar(mappable=h)"
   ]
  },
  {
   "cell_type": "code",
   "execution_count": null,
   "metadata": {},
   "outputs": [],
   "source": [
    "print(color_array)"
   ]
  },
  {
   "cell_type": "code",
   "execution_count": null,
   "metadata": {},
   "outputs": [],
   "source": [
    "def trunc_colormap(cmap, minval=0.0, maxval=1.0, n=100):\n",
    "    new_cmap = LinearSegmentedColormap.from_list('trunc({n}, {a:.2f}, {b:.2f})'.format(n=cmap.name, a=minval, b=maxval),\n",
    "                                                cmap(np.linspace(minval, maxval, n)))\n",
    "    return new_cmap\n",
    "\n",
    "cmap = plt.get_cmap('Reds_transp')\n",
    "new_cmap = trunc_colormap(cmap, 0.0, .9)\n",
    "\n",
    "# plot some example data\n",
    "fig, ax = plt.subplots()\n",
    "h = ax.imshow(np.random.rand(100,100), cmap=new_cmap)\n",
    "plt.colorbar(mappable=h)"
   ]
  },
  {
   "cell_type": "code",
   "execution_count": null,
   "metadata": {},
   "outputs": [],
   "source": [
    "print(\"baseline dimensions: \", baseline.shape)\n",
    "print(\"hosp dimensions: \", hosp.shape)"
   ]
  },
  {
   "cell_type": "code",
   "execution_count": null,
   "metadata": {},
   "outputs": [],
   "source": [
    "pune_gdf_3857=pune_gdf_3857.drop([0,1])"
   ]
  },
  {
   "cell_type": "code",
   "execution_count": null,
   "metadata": {
    "scrolled": true
   },
   "outputs": [],
   "source": [
    "params = {\"axes.labelcolor\":\"slategrey\"}\n",
    "plt.rcParams.update(params)\n",
    "cmap = plt.cm.get_cmap(\"Blues\")\n",
    "blue = cmap(200)\n",
    "\n",
    "from tqdm import tqdm_notebook\n",
    "\n",
    "for time_step in tqdm_notebook(range(1,201)):\n",
    "    \n",
    "    pune_gdf_3857['exposed'] = baseline[time_step-1, 1, :]\n",
    "    \n",
    "    #plot\n",
    "    fig, ax = plt.subplots(figsize=(14,14), dpi=72)\n",
    "    pune_gdf_3857.loc[pune_gdf_3857.index==84, 'exposed'] = max_exp_val + 1\n",
    "    pune_gdf_3857.plot(ax=ax, facecolor='none', edgecolor='gray', alpha=0.5, linewidth=0.5, zorder=2)\n",
    "    pune_gdf_3857.plot(ax=ax, column='exposed', cmap=new_cmap, zorder=3)\n",
    "    \n",
    "    # add background\n",
    "    ctx.add_basemap(ax, attribution=\"\", source=ctx.sources.ST_TONER_LITE, zoom='auto', alpha=0.6)\n",
    "    \n",
    "    ax.set_xlim(west, east)\n",
    "    ax.set_ylim(south, north)\n",
    "    ax.axis('off')\n",
    "    plt.tight_layout()\n",
    "    \n",
    "    inset_ax = fig.add_axes([0.6, 0.14, 0.37, 0.27])\n",
    "    inset_ax.patch.set_alpha(0.5)\n",
    "    \n",
    "    inset_ax.plot(baseline[:time_step, 0].sum(axis=1), label=\"susceptible\", color=blue, ls='-', lw=1.5, alpha=0.8)\n",
    "    inset_ax.plot(baseline[:time_step, 1].sum(axis=1), label=\"exposed\", color='g', ls='-', lw=1.5, alpha=0.8)\n",
    "    inset_ax.plot(baseline[:time_step, 2].sum(axis=1), label=\"infectious\", color='r', ls='-', lw=1.5, alpha=0.8)\n",
    "    inset_ax.plot(baseline[:time_step, 3].sum(axis=1), label=\"recovered\", color='y', ls='-', lw=1.5, alpha=0.8)\n",
    "    inset_ax.plot(hosp[:time_step], label=\"hospitalised\", color='purple', ls='-', lw=1.5, alpha=0.8)\n",
    "    \n",
    "    inset_ax.scatter((time_step-1), baseline[(time_step-1), 0].sum(), color=blue, s=50, alpha=0.2)\n",
    "    inset_ax.scatter((time_step-1), baseline[(time_step-1), 1].sum(), color='g', s=50, alpha=0.2)\n",
    "    inset_ax.scatter((time_step-1), baseline[(time_step-1), 2].sum(), color='r', s=50, alpha=0.2)\n",
    "    inset_ax.scatter((time_step-1), baseline[(time_step-1), 3].sum(), color='y', s=50, alpha=0.2)\n",
    "    inset_ax.scatter((time_step-1), hosp[(time_step-1)], color='purple', s=50, alpha=0.2)\n",
    "    \n",
    "    inset_ax.scatter((time_step-1), baseline[(time_step-1), 0].sum(), color=blue, s=20, alpha=0.8)\n",
    "    inset_ax.scatter((time_step-1), baseline[(time_step-1), 1].sum(), color='g', s=20, alpha=0.8)\n",
    "    inset_ax.scatter((time_step-1), baseline[(time_step-1), 2].sum(), color='r', s=20, alpha=0.8)\n",
    "    inset_ax.scatter((time_step-1), baseline[(time_step-1), 3].sum(), color='y', s=20, alpha=0.8)\n",
    "    inset_ax.scatter((time_step-1), hosp[(time_step-1)], color='purple', s=20, alpha=0.8)\n",
    "    \n",
    "    inset_ax.fill_between(np.arange(0, time_step), np.maximum(baseline[:time_step, 0].sum(axis=1), \\\n",
    "                                                             baseline[:time_step, 3].sum(axis=1)), alpha=0.035, color='r')\n",
    "    inset_ax.plot([time_step, time_step], [0, max(baseline[(time_step-1), 0].sum(), \\\n",
    "                                              baseline[(time_step-1), 3].sum())], ls='--', lw=0.7, alpha=0.8, color='r')\n",
    "    \n",
    "    inset_ax.set_ylabel('Population', size=18, alpha=1, rotation=90)\n",
    "    inset_ax.set_xlabel('Days', size=18, alpha=1)\n",
    "    inset_ax.yaxis.set_label_coords(-0.15, 0.55)\n",
    "    inset_ax.tick_params(direction='in', size=10)\n",
    "    inset_ax.set_xlim(-4, 204)\n",
    "    inset_ax.set_ylim(-24000, 3024000)\n",
    "    plt.xticks(fontsize=14)\n",
    "    plt.yticks(fontsize=14)\n",
    "    inset_ax.grid(alpha=0.4)\n",
    "    \n",
    "    inset_ax.spines['right'].set_visible(False)\n",
    "    inset_ax.spines['top'].set_visible(False)\n",
    "    \n",
    "    inset_ax.spines['left'].set_color('darkslategrey')\n",
    "    inset_ax.spines['bottom'].set_color('darkslategrey')\n",
    "    inset_ax.tick_params(axis='x', colors='darkslategrey')\n",
    "    inset_ax.tick_params(axis='y', colors='darkslategrey')\n",
    "    plt.legend(prop={'size':14, 'weight':'light'}, framealpha=0.5)\n",
    "    \n",
    "    plt.title(\"Pune Covid-19 spreading on day: {}\".format(time_step), fontsize=18, color= 'dimgray')\n",
    "    \n",
    "    plt.savefig(\"Plots/flows_{}.jpg\".format(time_step), dpi=fig.dpi)\n",
    "    plt.show()"
   ]
  },
  {
   "cell_type": "code",
   "execution_count": null,
   "metadata": {},
   "outputs": [],
   "source": [
    "import re\n",
    "\n",
    "def sort_in_order( l ):\n",
    "    \"\"\" sorts a given iterable\n",
    "    \n",
    "    l : iterable to be sorted\"\"\"\n",
    "    \n",
    "    convert = lambda text: int(text) if text.isdigit() else text\n",
    "    alphanumeric_key = lambda key: [convert(c) for c in re.split('([0-9]+)', key)]\n",
    "    return sorted(l, key=alphanumeric_key)\n",
    "\n",
    "from os import listdir\n",
    "\n",
    "filenames = listdir(\"Plots/\")\n",
    "filenames = sort_in_order(filenames)\n",
    "print(len(filenames))"
   ]
  },
  {
   "cell_type": "code",
   "execution_count": null,
   "metadata": {},
   "outputs": [],
   "source": [
    "import imageio\n",
    "with imageio.get_writer('Covid_19_Pune.gif', mode='I', fps=8) as writer:\n",
    "    for filename in tqdm_notebook(filenames):\n",
    "        image = imageio.imread('Plots/{}'.format(filename))\n",
    "        writer.append_data(image)"
   ]
  },
  {
   "cell_type": "code",
   "execution_count": null,
   "metadata": {},
   "outputs": [],
   "source": []
  }
 ],
 "metadata": {
  "kernelspec": {
   "display_name": "Python 3",
   "language": "python",
   "name": "python3"
  },
  "language_info": {
   "codemirror_mode": {
    "name": "ipython",
    "version": 3
   },
   "file_extension": ".py",
   "mimetype": "text/x-python",
   "name": "python",
   "nbconvert_exporter": "python",
   "pygments_lexer": "ipython3",
   "version": "3.9.1"
  }
 },
 "nbformat": 4,
 "nbformat_minor": 2
}
